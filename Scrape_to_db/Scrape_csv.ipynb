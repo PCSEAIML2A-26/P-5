{
 "cells": [
  {
   "cell_type": "code",
   "execution_count": 1,
   "id": "48fb5ef2-f305-4f6c-bdc9-ba0f9893ecf5",
   "metadata": {},
   "outputs": [],
   "source": [
    "from selenium import webdriver\n",
    "from selenium.webdriver.chrome.service import Service\n",
    "from selenium.webdriver.common.by import By"
   ]
  },
  {
   "cell_type": "code",
   "execution_count": 2,
   "id": "2a6ceb53-b688-4196-bd30-08e2469ebd51",
   "metadata": {},
   "outputs": [],
   "source": [
    "# Path to your ChromeDriver\n",
    "#chrome_driver_path = '/home/metech/WebScraping'\n",
    "\n",
    "URL = \"https://nptel.ac.in/courses\"\n"
   ]
  },
  {
   "cell_type": "code",
   "execution_count": 3,
   "id": "d99ed782-10ea-48e3-ab53-c5bb853b6c71",
   "metadata": {},
   "outputs": [],
   "source": [
    "# Set up Chrome options\n",
    "chrome_options = webdriver.ChromeOptions()\n",
    "chrome_options.add_argument('--headless')  # Run in headless mode, without opening a browser window\n",
    "chrome_options.add_argument('--disable-gpu')\n",
    "chrome_options.add_argument('--no-sandbox')"
   ]
  },
  {
   "cell_type": "code",
   "execution_count": 4,
   "id": "a3b207b3-9115-4912-bf24-8b6255ea7254",
   "metadata": {},
   "outputs": [],
   "source": [
    "# Start the WebDriver\n",
    "service = Service()\n",
    "driver = webdriver.Chrome()\n",
    "\n",
    "driver.get(URL)\n"
   ]
  },
  {
   "cell_type": "code",
   "execution_count": 5,
   "id": "5cdfc338-c705-462b-84ad-18e1ea216ef7",
   "metadata": {},
   "outputs": [],
   "source": [
    "# Wait for the page to load (adjust the time based on page load speed)\n",
    "driver.implicitly_wait(10)\n"
   ]
  },
  {
   "cell_type": "code",
   "execution_count": 6,
   "id": "9fd016eb-fc98-4d41-89ba-465cb619e188",
   "metadata": {},
   "outputs": [],
   "source": [
    "#course_cards = driver.find_elements(By.CSS_SELECTOR, 'app-course-card')"
   ]
  },
  {
   "cell_type": "code",
   "execution_count": 7,
   "id": "603184ad-9f3f-48d7-9128-45a30e4a9948",
   "metadata": {},
   "outputs": [],
   "source": [
    "import pandas as pd\n",
    "try:\n",
    "    driver.get(URL)\n",
    "    driver.implicitly_wait(10)\n",
    "\n",
    "    course_elements = driver.find_elements(By.CLASS_NAME, \"course-card\")\n",
    "\n",
    "    courses = []\n",
    "    for element in course_elements:\n",
    "        name = element.find_element(By.CLASS_NAME, \"name\").text\n",
    "        discipline = element.find_element(By.CLASS_NAME, \"discipline\").text\n",
    "        link = element.find_element(By.TAG_NAME, \"a\").get_attribute(\"href\")\n",
    "        #professor_element = driver.find_element(By.XPATH, \"//span[@_ngcontent-ng-c1611386007]\").text\n",
    "        #college_element = driver.find_element(By.XPATH, \"//span[@_ngcontent-ng-c1611386007]\").text\n",
    "        courses.append({\n",
    "            \"name\": name,\n",
    "            \"discipline\": discipline,\n",
    "            \"link\": link})\n",
    "\n",
    "    # Create the DataFrame\n",
    "    df = pd.DataFrame(courses)\n",
    "    df.to_csv('course_data.csv', index=False)\n",
    "\n",
    "finally:\n",
    "    driver.quit()  # Close the WebDriver"
   ]
  },
  {
   "cell_type": "code",
   "execution_count": null,
   "id": "90f79d4a-c771-42ec-bfa3-5ee01fd19d9d",
   "metadata": {},
   "outputs": [],
   "source": []
  }
 ],
 "metadata": {
  "kernelspec": {
   "display_name": "Python 3 (ipykernel)",
   "language": "python",
   "name": "python3"
  },
  "language_info": {
   "codemirror_mode": {
    "name": "ipython",
    "version": 3
   },
   "file_extension": ".py",
   "mimetype": "text/x-python",
   "name": "python",
   "nbconvert_exporter": "python",
   "pygments_lexer": "ipython3",
   "version": "3.10.9"
  }
 },
 "nbformat": 4,
 "nbformat_minor": 5
}
